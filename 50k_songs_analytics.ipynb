{
  "nbformat": 4,
  "nbformat_minor": 0,
  "metadata": {
    "colab": {
      "provenance": [],
      "authorship_tag": "ABX9TyM3V7HgAKh4WnBjxla9vxNa",
      "include_colab_link": true
    },
    "kernelspec": {
      "name": "python3",
      "display_name": "Python 3"
    },
    "language_info": {
      "name": "python"
    }
  },
  "cells": [
    {
      "cell_type": "markdown",
      "metadata": {
        "id": "view-in-github",
        "colab_type": "text"
      },
      "source": [
        "<a href=\"https://colab.research.google.com/github/choclox/50k-IA-Songs/blob/main/50k_songs_analytics.ipynb\" target=\"_parent\"><img src=\"https://colab.research.google.com/assets/colab-badge.svg\" alt=\"Open In Colab\"/></a>"
      ]
    },
    {
      "cell_type": "code",
      "execution_count": null,
      "metadata": {
        "id": "AYL8DZQ0GSNC"
      },
      "outputs": [],
      "source": [
        "import matplotlib.pyplot as plt\n",
        "import pandas as pd\n",
        "import numpy as np"
      ]
    },
    {
      "cell_type": "code",
      "source": [
        "from google.colab import files\n",
        "files.upload()"
      ],
      "metadata": {
        "id": "kB_4uvekR17I"
      },
      "execution_count": null,
      "outputs": []
    },
    {
      "cell_type": "code",
      "source": [
        "df = pd.read_csv('songs.csv')\n",
        "df.head()"
      ],
      "metadata": {
        "id": "ceDLWVizGy92",
        "colab": {
          "base_uri": "https://localhost:8080/",
          "height": 382
        },
        "outputId": "0fb37089-e263-4c89-c22d-7d7d42f013e6"
      },
      "execution_count": null,
      "outputs": [
        {
          "output_type": "execute_result",
          "data": {
            "text/plain": [
              "  song_id               song_title             artist              album  \\\n",
              "0  SP0001  Space executive series.       Sydney Clark              What.   \n",
              "1  SP0002     Price last painting.  Connor Peters DDS   Nature politics.   \n",
              "2  SP0003                   Piece.         Anna Keith             Visit.   \n",
              "3  SP0004     Power industry your.    Zachary Simpson  Behavior evening.   \n",
              "4  SP0005      Food animal second.  Christopher Mcgee             Front.   \n",
              "\n",
              "        genre release_date  duration  popularity    stream language  \\\n",
              "0  Electronic   1997-11-08     282.0          42  35055874  English   \n",
              "1  Electronic   2015-05-10     127.0          50   9249527  English   \n",
              "2         Pop   2024-07-08       NaN          10  76669110  English   \n",
              "3     Hip-Hop   2022-08-15     214.0          86  34732016  English   \n",
              "4         Pop   2023-03-05     273.0          63  96649372  English   \n",
              "\n",
              "  explicit_content            label       composer           producer  \\\n",
              "0              Yes          Def Jam   Amy Hatfield     Jeffrey Weaver   \n",
              "1              Yes  Universal Music  Jason Gregory      Kenneth White   \n",
              "2              Yes  Universal Music   Rachel Lopez       Jason Barnes   \n",
              "3               No       Sony Music      Thomas Li  Mrs. Becky Palmer   \n",
              "4              Yes          Def Jam    Adam Wagner      Beverly Baker   \n",
              "\n",
              "  collaboration  \n",
              "0           NaN  \n",
              "1           NaN  \n",
              "2           NaN  \n",
              "3           NaN  \n",
              "4           NaN  "
            ],
            "text/html": [
              "\n",
              "  <div id=\"df-9a6dd4ea-45f2-4767-ad3c-2d08da9fc2cc\" class=\"colab-df-container\">\n",
              "    <div>\n",
              "<style scoped>\n",
              "    .dataframe tbody tr th:only-of-type {\n",
              "        vertical-align: middle;\n",
              "    }\n",
              "\n",
              "    .dataframe tbody tr th {\n",
              "        vertical-align: top;\n",
              "    }\n",
              "\n",
              "    .dataframe thead th {\n",
              "        text-align: right;\n",
              "    }\n",
              "</style>\n",
              "<table border=\"1\" class=\"dataframe\">\n",
              "  <thead>\n",
              "    <tr style=\"text-align: right;\">\n",
              "      <th></th>\n",
              "      <th>song_id</th>\n",
              "      <th>song_title</th>\n",
              "      <th>artist</th>\n",
              "      <th>album</th>\n",
              "      <th>genre</th>\n",
              "      <th>release_date</th>\n",
              "      <th>duration</th>\n",
              "      <th>popularity</th>\n",
              "      <th>stream</th>\n",
              "      <th>language</th>\n",
              "      <th>explicit_content</th>\n",
              "      <th>label</th>\n",
              "      <th>composer</th>\n",
              "      <th>producer</th>\n",
              "      <th>collaboration</th>\n",
              "    </tr>\n",
              "  </thead>\n",
              "  <tbody>\n",
              "    <tr>\n",
              "      <th>0</th>\n",
              "      <td>SP0001</td>\n",
              "      <td>Space executive series.</td>\n",
              "      <td>Sydney Clark</td>\n",
              "      <td>What.</td>\n",
              "      <td>Electronic</td>\n",
              "      <td>1997-11-08</td>\n",
              "      <td>282.0</td>\n",
              "      <td>42</td>\n",
              "      <td>35055874</td>\n",
              "      <td>English</td>\n",
              "      <td>Yes</td>\n",
              "      <td>Def Jam</td>\n",
              "      <td>Amy Hatfield</td>\n",
              "      <td>Jeffrey Weaver</td>\n",
              "      <td>NaN</td>\n",
              "    </tr>\n",
              "    <tr>\n",
              "      <th>1</th>\n",
              "      <td>SP0002</td>\n",
              "      <td>Price last painting.</td>\n",
              "      <td>Connor Peters DDS</td>\n",
              "      <td>Nature politics.</td>\n",
              "      <td>Electronic</td>\n",
              "      <td>2015-05-10</td>\n",
              "      <td>127.0</td>\n",
              "      <td>50</td>\n",
              "      <td>9249527</td>\n",
              "      <td>English</td>\n",
              "      <td>Yes</td>\n",
              "      <td>Universal Music</td>\n",
              "      <td>Jason Gregory</td>\n",
              "      <td>Kenneth White</td>\n",
              "      <td>NaN</td>\n",
              "    </tr>\n",
              "    <tr>\n",
              "      <th>2</th>\n",
              "      <td>SP0003</td>\n",
              "      <td>Piece.</td>\n",
              "      <td>Anna Keith</td>\n",
              "      <td>Visit.</td>\n",
              "      <td>Pop</td>\n",
              "      <td>2024-07-08</td>\n",
              "      <td>NaN</td>\n",
              "      <td>10</td>\n",
              "      <td>76669110</td>\n",
              "      <td>English</td>\n",
              "      <td>Yes</td>\n",
              "      <td>Universal Music</td>\n",
              "      <td>Rachel Lopez</td>\n",
              "      <td>Jason Barnes</td>\n",
              "      <td>NaN</td>\n",
              "    </tr>\n",
              "    <tr>\n",
              "      <th>3</th>\n",
              "      <td>SP0004</td>\n",
              "      <td>Power industry your.</td>\n",
              "      <td>Zachary Simpson</td>\n",
              "      <td>Behavior evening.</td>\n",
              "      <td>Hip-Hop</td>\n",
              "      <td>2022-08-15</td>\n",
              "      <td>214.0</td>\n",
              "      <td>86</td>\n",
              "      <td>34732016</td>\n",
              "      <td>English</td>\n",
              "      <td>No</td>\n",
              "      <td>Sony Music</td>\n",
              "      <td>Thomas Li</td>\n",
              "      <td>Mrs. Becky Palmer</td>\n",
              "      <td>NaN</td>\n",
              "    </tr>\n",
              "    <tr>\n",
              "      <th>4</th>\n",
              "      <td>SP0005</td>\n",
              "      <td>Food animal second.</td>\n",
              "      <td>Christopher Mcgee</td>\n",
              "      <td>Front.</td>\n",
              "      <td>Pop</td>\n",
              "      <td>2023-03-05</td>\n",
              "      <td>273.0</td>\n",
              "      <td>63</td>\n",
              "      <td>96649372</td>\n",
              "      <td>English</td>\n",
              "      <td>Yes</td>\n",
              "      <td>Def Jam</td>\n",
              "      <td>Adam Wagner</td>\n",
              "      <td>Beverly Baker</td>\n",
              "      <td>NaN</td>\n",
              "    </tr>\n",
              "  </tbody>\n",
              "</table>\n",
              "</div>\n",
              "    <div class=\"colab-df-buttons\">\n",
              "\n",
              "  <div class=\"colab-df-container\">\n",
              "    <button class=\"colab-df-convert\" onclick=\"convertToInteractive('df-9a6dd4ea-45f2-4767-ad3c-2d08da9fc2cc')\"\n",
              "            title=\"Convert this dataframe to an interactive table.\"\n",
              "            style=\"display:none;\">\n",
              "\n",
              "  <svg xmlns=\"http://www.w3.org/2000/svg\" height=\"24px\" viewBox=\"0 -960 960 960\">\n",
              "    <path d=\"M120-120v-720h720v720H120Zm60-500h600v-160H180v160Zm220 220h160v-160H400v160Zm0 220h160v-160H400v160ZM180-400h160v-160H180v160Zm440 0h160v-160H620v160ZM180-180h160v-160H180v160Zm440 0h160v-160H620v160Z\"/>\n",
              "  </svg>\n",
              "    </button>\n",
              "\n",
              "  <style>\n",
              "    .colab-df-container {\n",
              "      display:flex;\n",
              "      gap: 12px;\n",
              "    }\n",
              "\n",
              "    .colab-df-convert {\n",
              "      background-color: #E8F0FE;\n",
              "      border: none;\n",
              "      border-radius: 50%;\n",
              "      cursor: pointer;\n",
              "      display: none;\n",
              "      fill: #1967D2;\n",
              "      height: 32px;\n",
              "      padding: 0 0 0 0;\n",
              "      width: 32px;\n",
              "    }\n",
              "\n",
              "    .colab-df-convert:hover {\n",
              "      background-color: #E2EBFA;\n",
              "      box-shadow: 0px 1px 2px rgba(60, 64, 67, 0.3), 0px 1px 3px 1px rgba(60, 64, 67, 0.15);\n",
              "      fill: #174EA6;\n",
              "    }\n",
              "\n",
              "    .colab-df-buttons div {\n",
              "      margin-bottom: 4px;\n",
              "    }\n",
              "\n",
              "    [theme=dark] .colab-df-convert {\n",
              "      background-color: #3B4455;\n",
              "      fill: #D2E3FC;\n",
              "    }\n",
              "\n",
              "    [theme=dark] .colab-df-convert:hover {\n",
              "      background-color: #434B5C;\n",
              "      box-shadow: 0px 1px 3px 1px rgba(0, 0, 0, 0.15);\n",
              "      filter: drop-shadow(0px 1px 2px rgba(0, 0, 0, 0.3));\n",
              "      fill: #FFFFFF;\n",
              "    }\n",
              "  </style>\n",
              "\n",
              "    <script>\n",
              "      const buttonEl =\n",
              "        document.querySelector('#df-9a6dd4ea-45f2-4767-ad3c-2d08da9fc2cc button.colab-df-convert');\n",
              "      buttonEl.style.display =\n",
              "        google.colab.kernel.accessAllowed ? 'block' : 'none';\n",
              "\n",
              "      async function convertToInteractive(key) {\n",
              "        const element = document.querySelector('#df-9a6dd4ea-45f2-4767-ad3c-2d08da9fc2cc');\n",
              "        const dataTable =\n",
              "          await google.colab.kernel.invokeFunction('convertToInteractive',\n",
              "                                                    [key], {});\n",
              "        if (!dataTable) return;\n",
              "\n",
              "        const docLinkHtml = 'Like what you see? Visit the ' +\n",
              "          '<a target=\"_blank\" href=https://colab.research.google.com/notebooks/data_table.ipynb>data table notebook</a>'\n",
              "          + ' to learn more about interactive tables.';\n",
              "        element.innerHTML = '';\n",
              "        dataTable['output_type'] = 'display_data';\n",
              "        await google.colab.output.renderOutput(dataTable, element);\n",
              "        const docLink = document.createElement('div');\n",
              "        docLink.innerHTML = docLinkHtml;\n",
              "        element.appendChild(docLink);\n",
              "      }\n",
              "    </script>\n",
              "  </div>\n",
              "\n",
              "\n",
              "<div id=\"df-8bbad2b9-965a-4d5f-b1f5-6cc0ce28ebab\">\n",
              "  <button class=\"colab-df-quickchart\" onclick=\"quickchart('df-8bbad2b9-965a-4d5f-b1f5-6cc0ce28ebab')\"\n",
              "            title=\"Suggest charts\"\n",
              "            style=\"display:none;\">\n",
              "\n",
              "<svg xmlns=\"http://www.w3.org/2000/svg\" height=\"24px\"viewBox=\"0 0 24 24\"\n",
              "     width=\"24px\">\n",
              "    <g>\n",
              "        <path d=\"M19 3H5c-1.1 0-2 .9-2 2v14c0 1.1.9 2 2 2h14c1.1 0 2-.9 2-2V5c0-1.1-.9-2-2-2zM9 17H7v-7h2v7zm4 0h-2V7h2v10zm4 0h-2v-4h2v4z\"/>\n",
              "    </g>\n",
              "</svg>\n",
              "  </button>\n",
              "\n",
              "<style>\n",
              "  .colab-df-quickchart {\n",
              "      --bg-color: #E8F0FE;\n",
              "      --fill-color: #1967D2;\n",
              "      --hover-bg-color: #E2EBFA;\n",
              "      --hover-fill-color: #174EA6;\n",
              "      --disabled-fill-color: #AAA;\n",
              "      --disabled-bg-color: #DDD;\n",
              "  }\n",
              "\n",
              "  [theme=dark] .colab-df-quickchart {\n",
              "      --bg-color: #3B4455;\n",
              "      --fill-color: #D2E3FC;\n",
              "      --hover-bg-color: #434B5C;\n",
              "      --hover-fill-color: #FFFFFF;\n",
              "      --disabled-bg-color: #3B4455;\n",
              "      --disabled-fill-color: #666;\n",
              "  }\n",
              "\n",
              "  .colab-df-quickchart {\n",
              "    background-color: var(--bg-color);\n",
              "    border: none;\n",
              "    border-radius: 50%;\n",
              "    cursor: pointer;\n",
              "    display: none;\n",
              "    fill: var(--fill-color);\n",
              "    height: 32px;\n",
              "    padding: 0;\n",
              "    width: 32px;\n",
              "  }\n",
              "\n",
              "  .colab-df-quickchart:hover {\n",
              "    background-color: var(--hover-bg-color);\n",
              "    box-shadow: 0 1px 2px rgba(60, 64, 67, 0.3), 0 1px 3px 1px rgba(60, 64, 67, 0.15);\n",
              "    fill: var(--button-hover-fill-color);\n",
              "  }\n",
              "\n",
              "  .colab-df-quickchart-complete:disabled,\n",
              "  .colab-df-quickchart-complete:disabled:hover {\n",
              "    background-color: var(--disabled-bg-color);\n",
              "    fill: var(--disabled-fill-color);\n",
              "    box-shadow: none;\n",
              "  }\n",
              "\n",
              "  .colab-df-spinner {\n",
              "    border: 2px solid var(--fill-color);\n",
              "    border-color: transparent;\n",
              "    border-bottom-color: var(--fill-color);\n",
              "    animation:\n",
              "      spin 1s steps(1) infinite;\n",
              "  }\n",
              "\n",
              "  @keyframes spin {\n",
              "    0% {\n",
              "      border-color: transparent;\n",
              "      border-bottom-color: var(--fill-color);\n",
              "      border-left-color: var(--fill-color);\n",
              "    }\n",
              "    20% {\n",
              "      border-color: transparent;\n",
              "      border-left-color: var(--fill-color);\n",
              "      border-top-color: var(--fill-color);\n",
              "    }\n",
              "    30% {\n",
              "      border-color: transparent;\n",
              "      border-left-color: var(--fill-color);\n",
              "      border-top-color: var(--fill-color);\n",
              "      border-right-color: var(--fill-color);\n",
              "    }\n",
              "    40% {\n",
              "      border-color: transparent;\n",
              "      border-right-color: var(--fill-color);\n",
              "      border-top-color: var(--fill-color);\n",
              "    }\n",
              "    60% {\n",
              "      border-color: transparent;\n",
              "      border-right-color: var(--fill-color);\n",
              "    }\n",
              "    80% {\n",
              "      border-color: transparent;\n",
              "      border-right-color: var(--fill-color);\n",
              "      border-bottom-color: var(--fill-color);\n",
              "    }\n",
              "    90% {\n",
              "      border-color: transparent;\n",
              "      border-bottom-color: var(--fill-color);\n",
              "    }\n",
              "  }\n",
              "</style>\n",
              "\n",
              "  <script>\n",
              "    async function quickchart(key) {\n",
              "      const quickchartButtonEl =\n",
              "        document.querySelector('#' + key + ' button');\n",
              "      quickchartButtonEl.disabled = true;  // To prevent multiple clicks.\n",
              "      quickchartButtonEl.classList.add('colab-df-spinner');\n",
              "      try {\n",
              "        const charts = await google.colab.kernel.invokeFunction(\n",
              "            'suggestCharts', [key], {});\n",
              "      } catch (error) {\n",
              "        console.error('Error during call to suggestCharts:', error);\n",
              "      }\n",
              "      quickchartButtonEl.classList.remove('colab-df-spinner');\n",
              "      quickchartButtonEl.classList.add('colab-df-quickchart-complete');\n",
              "    }\n",
              "    (() => {\n",
              "      let quickchartButtonEl =\n",
              "        document.querySelector('#df-8bbad2b9-965a-4d5f-b1f5-6cc0ce28ebab button');\n",
              "      quickchartButtonEl.style.display =\n",
              "        google.colab.kernel.accessAllowed ? 'block' : 'none';\n",
              "    })();\n",
              "  </script>\n",
              "</div>\n",
              "\n",
              "    </div>\n",
              "  </div>\n"
            ],
            "application/vnd.google.colaboratory.intrinsic+json": {
              "type": "dataframe",
              "variable_name": "df",
              "summary": "{\n  \"name\": \"df\",\n  \"rows\": 50000,\n  \"fields\": [\n    {\n      \"column\": \"song_id\",\n      \"properties\": {\n        \"dtype\": \"string\",\n        \"num_unique_values\": 50000,\n        \"samples\": [\n          \"SP33554\",\n          \"SP9428\",\n          \"SP0200\"\n        ],\n        \"semantic_type\": \"\",\n        \"description\": \"\"\n      }\n    },\n    {\n      \"column\": \"song_title\",\n      \"properties\": {\n        \"dtype\": \"string\",\n        \"num_unique_values\": 46396,\n        \"samples\": [\n          \"Lot agency.\",\n          \"Certain threat population.\",\n          \"Across director.\"\n        ],\n        \"semantic_type\": \"\",\n        \"description\": \"\"\n      }\n    },\n    {\n      \"column\": \"artist\",\n      \"properties\": {\n        \"dtype\": \"string\",\n        \"num_unique_values\": 40182,\n        \"samples\": [\n          \"Bryan Lewis\",\n          \"April Stewart\",\n          \"Gary Newman\"\n        ],\n        \"semantic_type\": \"\",\n        \"description\": \"\"\n      }\n    },\n    {\n      \"column\": \"album\",\n      \"properties\": {\n        \"dtype\": \"string\",\n        \"num_unique_values\": 26162,\n        \"samples\": [\n          \"Either.\",\n          \"Lay half.\",\n          \"Early major.\"\n        ],\n        \"semantic_type\": \"\",\n        \"description\": \"\"\n      }\n    },\n    {\n      \"column\": \"genre\",\n      \"properties\": {\n        \"dtype\": \"category\",\n        \"num_unique_values\": 9,\n        \"samples\": [\n          \"Country\",\n          \"Pop\",\n          \"Jazz\"\n        ],\n        \"semantic_type\": \"\",\n        \"description\": \"\"\n      }\n    },\n    {\n      \"column\": \"release_date\",\n      \"properties\": {\n        \"dtype\": \"object\",\n        \"num_unique_values\": 10853,\n        \"samples\": [\n          \"2008-12-01\",\n          \"2020-12-25\",\n          \"2014-04-22\"\n        ],\n        \"semantic_type\": \"\",\n        \"description\": \"\"\n      }\n    },\n    {\n      \"column\": \"duration\",\n      \"properties\": {\n        \"dtype\": \"number\",\n        \"std\": 50.13672716814611,\n        \"min\": 33.0,\n        \"max\": 433.0,\n        \"num_unique_values\": 366,\n        \"samples\": [\n          428.0,\n          238.0,\n          314.0\n        ],\n        \"semantic_type\": \"\",\n        \"description\": \"\"\n      }\n    },\n    {\n      \"column\": \"popularity\",\n      \"properties\": {\n        \"dtype\": \"number\",\n        \"std\": 28,\n        \"min\": 1,\n        \"max\": 100,\n        \"num_unique_values\": 100,\n        \"samples\": [\n          70,\n          69,\n          64\n        ],\n        \"semantic_type\": \"\",\n        \"description\": \"\"\n      }\n    },\n    {\n      \"column\": \"stream\",\n      \"properties\": {\n        \"dtype\": \"number\",\n        \"std\": 28936244,\n        \"min\": 1899,\n        \"max\": 99999128,\n        \"num_unique_values\": 49989,\n        \"samples\": [\n          19272125,\n          72398657,\n          1959208\n        ],\n        \"semantic_type\": \"\",\n        \"description\": \"\"\n      }\n    },\n    {\n      \"column\": \"language\",\n      \"properties\": {\n        \"dtype\": \"category\",\n        \"num_unique_values\": 7,\n        \"samples\": [\n          \"English\",\n          \"Japanese\",\n          \"Korean\"\n        ],\n        \"semantic_type\": \"\",\n        \"description\": \"\"\n      }\n    },\n    {\n      \"column\": \"explicit_content\",\n      \"properties\": {\n        \"dtype\": \"category\",\n        \"num_unique_values\": 2,\n        \"samples\": [\n          \"No\",\n          \"Yes\"\n        ],\n        \"semantic_type\": \"\",\n        \"description\": \"\"\n      }\n    },\n    {\n      \"column\": \"label\",\n      \"properties\": {\n        \"dtype\": \"category\",\n        \"num_unique_values\": 6,\n        \"samples\": [\n          \"Def Jam\",\n          \"Universal Music\"\n        ],\n        \"semantic_type\": \"\",\n        \"description\": \"\"\n      }\n    },\n    {\n      \"column\": \"composer\",\n      \"properties\": {\n        \"dtype\": \"string\",\n        \"num_unique_values\": 40314,\n        \"samples\": [\n          \"Jessica Yang\",\n          \"Melinda Wheeler\"\n        ],\n        \"semantic_type\": \"\",\n        \"description\": \"\"\n      }\n    },\n    {\n      \"column\": \"producer\",\n      \"properties\": {\n        \"dtype\": \"string\",\n        \"num_unique_values\": 40304,\n        \"samples\": [\n          \"Mr. Jeremy Cameron DDS\",\n          \"Troy Hopkins\"\n        ],\n        \"semantic_type\": \"\",\n        \"description\": \"\"\n      }\n    },\n    {\n      \"column\": \"collaboration\",\n      \"properties\": {\n        \"dtype\": \"category\",\n        \"num_unique_values\": 13737,\n        \"samples\": [\n          \"Brenda Simmons\",\n          \"Elizabeth Bradley\"\n        ],\n        \"semantic_type\": \"\",\n        \"description\": \"\"\n      }\n    }\n  ]\n}"
            }
          },
          "metadata": {},
          "execution_count": 11
        }
      ]
    },
    {
      "cell_type": "code",
      "source": [
        "def filter_by(filter):\n",
        "  try:\n",
        "    data = {df.loc[i, \"song_id\"]:df.loc[i, filter] for i in range(len(df))}\n",
        "    print(type(data[\"SP0001\"]))\n",
        "    return data\n",
        "  except KeyError :\n",
        "    print(\"Key not found\")\n",
        "    return None"
      ],
      "metadata": {
        "id": "Un8t0gXlSHgZ"
      },
      "execution_count": null,
      "outputs": []
    },
    {
      "cell_type": "code",
      "source": [
        "def song_name(data):\n",
        "  info = {}\n",
        "  for id in data.keys():\n",
        "    index = int(id[2:])\n",
        "    info[df.at[index,\"song_title\"]] = data[id]\n",
        "  return info"
      ],
      "metadata": {
        "id": "D95Q8iE5hF4M"
      },
      "execution_count": null,
      "outputs": []
    },
    {
      "cell_type": "code",
      "source": [
        "def total(data):\n",
        "  total = 0\n",
        "  for id in data.keys():\n",
        "    total += data[id]\n",
        "  return total\n",
        "\n",
        "def percent(data, total):\n",
        "  for id in data.keys():\n",
        "    data[id] = (data[id]/total)*100\n",
        "  return data"
      ],
      "metadata": {
        "id": "ynLyovg064SH"
      },
      "execution_count": null,
      "outputs": []
    },
    {
      "cell_type": "code",
      "source": [
        "# Top 5 songs most heared\n",
        "data = filter_by(\"stream\")\n",
        "sorted_data = dict(sorted(data.items(), key=lambda item: item[1], reverse=True))\n",
        "topFive = {k: sorted_data[k] for k in list(sorted_data)[:5]} # returns the id of the top five songs and the time streamed\n",
        "dataNames = song_name(topFive)\n",
        "x = np.array(list(dataNames.keys()))\n",
        "y = np.array(list(dataNames.values()))\n",
        "print(dataNames)\n",
        "plt.barh(x,y)\n",
        "plt.title(\"Top 5 songs most heared\")\n",
        "plt.show()"
      ],
      "metadata": {
        "colab": {
          "base_uri": "https://localhost:8080/",
          "height": 505
        },
        "collapsed": true,
        "id": "P0tiHuxWV4To",
        "outputId": "74f95947-8d00-458f-f14d-edee26c67e92"
      },
      "execution_count": null,
      "outputs": [
        {
          "output_type": "stream",
          "name": "stdout",
          "text": [
            "<class 'numpy.int64'>\n",
            "{'Important leader dream.': 99999128, 'Skin claim.': 99998468, 'Side threat.': 99996451, 'New.': 99993859, 'Into enough modern red.': 99992156}\n"
          ]
        },
        {
          "output_type": "display_data",
          "data": {
            "text/plain": [
              "<Figure size 640x480 with 1 Axes>"
            ],
            "image/png": "[encoded data removed]"
          },
          "metadata": {}
        }
      ]
    },
    {
      "cell_type": "code",
      "source": [
        "# Pie chart - genres\n",
        "genres = filter_by(\"genre\")\n",
        "dataCount = {}\n",
        "for genre in genres.keys():\n",
        "  if genres[genre] in dataCount.keys():\n",
        "    dataCount[genres[genre]] += 1\n",
        "  else:\n",
        "    dataCount[genres[genre]] = 1\n",
        "dataCount = percent(dataCount, total(dataCount))\n",
        "print(dataCount)\n",
        "x = np.array(list(dataCount.values()))\n",
        "labels = dataCount.keys()\n",
        "plt.pie(x, labels=labels)\n",
        "plt.title(\"Genres\")"
      ],
      "metadata": {
        "colab": {
          "base_uri": "https://localhost:8080/",
          "height": 500
        },
        "collapsed": true,
        "id": "ySaemHFp25Nh",
        "outputId": "6b5fe7b1-b713-4864-eca4-e2d99ae0c427"
      },
      "execution_count": null,
      "outputs": [
        {
          "output_type": "stream",
          "name": "stdout",
          "text": [
            "<class 'str'>\n",
            "{'Electronic': 25.135999999999996, 'Pop': 25.068, 'Hip-Hop': 24.596, 'Folk': 5.118, 'R&B': 3.026, 'Jazz': 5.008, 'Classical': 5.0840000000000005, 'Country': 5.022, 'Reggae': 1.942}\n"
          ]
        },
        {
          "output_type": "execute_result",
          "data": {
            "text/plain": [
              "Text(0.5, 1.0, 'Genres')"
            ]
          },
          "metadata": {},
          "execution_count": 170
        },
        {
          "output_type": "display_data",
          "data": {
            "text/plain": [
              "<Figure size 640x480 with 1 Axes>"
            ],
            "image/png": "[encoded data removed]"
          },
          "metadata": {}
        }
      ]
    },
    {
      "cell_type": "code",
      "source": [
        "# Top 10 artists\n",
        "artists = filter_by(\"artist\")\n",
        "dataCount = {}\n",
        "for id,artist in artists.items():\n",
        "  index = int(id[2:]) -1\n",
        "  if artists[id] in dataCount.keys():\n",
        "    dataCount[artists[id]] += int(df.at[index,\"stream\"])\n",
        "  else:\n",
        "    dataCount[artists[id]] = int(df.at[index,\"stream\"])\n",
        "sorted_data = dict(sorted(dataCount.items(), key=lambda item: item[1], reverse=True))\n",
        "topFive = {k: sorted_data[k] for k in list(sorted_data)[:10]}\n",
        "x = np.array(list(topFive.keys()))\n",
        "y = np.array(list(topFive.values()))\n",
        "plt.barh(x,y)\n",
        "plt.title(\"Top 10 artists\")\n",
        "plt.show()"
      ],
      "metadata": {
        "colab": {
          "base_uri": "https://localhost:8080/",
          "height": 487
        },
        "collapsed": true,
        "id": "Pr7pd87r_hWw",
        "outputId": "17de2901-2ac0-4a72-ff75-0ad4b014893b"
      },
      "execution_count": null,
      "outputs": [
        {
          "output_type": "stream",
          "name": "stdout",
          "text": [
            "<class 'str'>\n"
          ]
        },
        {
          "output_type": "display_data",
          "data": {
            "text/plain": [
              "<Figure size 640x480 with 1 Axes>"
            ],
            "image/png": "[encoded data removed]"
          },
          "metadata": {}
        }
      ]
    },
    {
      "cell_type": "code",
      "source": [
        "# Songs with explicit content\n",
        "content = filter_by(\"explicit_content\")\n",
        "dataCount = {}\n",
        "for id,explicit in content.items():\n",
        "  if explicit in dataCount.keys():\n",
        "    dataCount[explicit] += 1\n",
        "  else:\n",
        "    dataCount[explicit] = 1\n",
        "dataCount = percent(dataCount, total(dataCount))\n",
        "x = np.array(list(dataCount.values()))\n",
        "labels = np.array(list(dataCount.keys()))\n",
        "print(dataCount)\n",
        "plt.bar(labels,x)\n",
        "plt.title(\"Songs with explicit content\")\n",
        "plt.show()"
      ],
      "metadata": {
        "colab": {
          "base_uri": "https://localhost:8080/",
          "height": 487
        },
        "id": "8UNmuVoeJaqV",
        "outputId": "86203bf6-dbfc-41a5-9f29-242908c5b110"
      },
      "execution_count": null,
      "outputs": [
        {
          "output_type": "stream",
          "name": "stdout",
          "text": [
            "<class 'str'>\n",
            "{'Yes': 50.166, 'No': 49.834}\n"
          ]
        },
        {
          "output_type": "display_data",
          "data": {
            "text/plain": [
              "<Figure size 640x480 with 1 Axes>"
            ],
            "image/png": "[encoded data removed]"
          },
          "metadata": {}
        }
      ]
    }
  ]
}